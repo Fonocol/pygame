{
 "cells": [
  {
   "cell_type": "code",
   "execution_count": 1,
   "metadata": {},
   "outputs": [
    {
     "name": "stdout",
     "output_type": "stream",
     "text": [
      "Requirement already satisfied: pygame in c:\\users\\user\\anaconda3\\lib\\site-packages (2.3.0)Note: you may need to restart the kernel to use updated packages.\n",
      "\n"
     ]
    }
   ],
   "source": [
    "pip install pygame"
   ]
  },
  {
   "cell_type": "code",
   "execution_count": 2,
   "metadata": {},
   "outputs": [
    {
     "name": "stdout",
     "output_type": "stream",
     "text": [
      "pygame 2.3.0 (SDL 2.24.2, Python 3.10.9)\n",
      "Hello from the pygame community. https://www.pygame.org/contribute.html\n"
     ]
    }
   ],
   "source": [
    "import pygame"
   ]
  },
  {
   "cell_type": "code",
   "execution_count": 3,
   "metadata": {},
   "outputs": [
    {
     "name": "stdout",
     "output_type": "stream",
     "text": [
      "Collecting pymodbus\n",
      "  Downloading pymodbus-3.6.6-py3-none-any.whl (185 kB)\n",
      "     ------------------------------------ 185.4/185.4 kB 931.8 kB/s eta 0:00:00\n",
      "Installing collected packages: pymodbus\n",
      "Successfully installed pymodbus-3.6.6\n",
      "Note: you may need to restart the kernel to use updated packages.\n"
     ]
    },
    {
     "name": "stderr",
     "output_type": "stream",
     "text": [
      "  WARNING: The script pymodbus.simulator.exe is installed in 'c:\\Users\\user\\Anaconda3\\Scripts' which is not on PATH.\n",
      "  Consider adding this directory to PATH or, if you prefer to suppress this warning, use --no-warn-script-location.\n"
     ]
    }
   ],
   "source": [
    "pip install pymodbus"
   ]
  },
  {
   "cell_type": "code",
   "execution_count": null,
   "metadata": {},
   "outputs": [],
   "source": []
  },
  {
   "cell_type": "code",
   "execution_count": 7,
   "metadata": {},
   "outputs": [
    {
     "name": "stdout",
     "output_type": "stream",
     "text": [
      "G\n",
      "Q\n",
      "A bientot\n"
     ]
    }
   ],
   "source": [
    "from math import cos, sin, pi\n",
    "import random\n",
    "import time\n",
    "import pygame\n",
    "from modbus import Modbus\n",
    "\n",
    "def drawpolygoneRegulier(surface,couleur,nombrepoints,origine,r=1,phi=0):\n",
    "    points = []\n",
    "\n",
    "    for i in range(nombrepoints):\n",
    "        x= r*cos(2*i*pi/nombrepoints + phi) + origine[0]\n",
    "        y= r*sin(2*i*pi/nombrepoints + phi) + origine[0]\n",
    "        point =(x,y)\n",
    "        points.append(point)\n",
    "\n",
    "    pygame.draw.polygon(surface,couleur,points)\n",
    "\n",
    "\n",
    "\n",
    "def main():\n",
    "    pygame.init()\n",
    "    modbus = Modbus\n",
    "    ecran = pygame.display.set_mode((640, 480))\n",
    "    ecranRect = ecran.get_rect()\n",
    "\n",
    "    # font = pygame.font.SysFont()\n",
    "    fontName = pygame.font.get_default_font()\n",
    "    font = pygame.font.Font(fontName, 32)\n",
    "    monTexte = \"\"\n",
    "    couleur = \"0x000000\"\n",
    "\n",
    "    vitesse = pygame.Rect((10, 10), (0, 0))\n",
    "    position = pygame.Rect((0, 0), (0, 0))\n",
    "    phi = 0\n",
    "    vitesseRotation = pi/128\n",
    "\n",
    "\n",
    "\n",
    "    continuer = True\n",
    "    ison = False\n",
    "    color = ['0xFF0000',\"0x00FF00\"]\n",
    "    cal = color[ison]\n",
    "\n",
    "    while continuer:\n",
    "        for event in pygame.event.get():\n",
    "            if event.type == pygame.QUIT:\n",
    "                continuer = False\n",
    "            elif event.type == pygame.KEYDOWN:\n",
    "                if event.key < 256 and event.key >= 0:\n",
    "                    # monTexte = \"La touche '\" + chr(event.key).upper() + \"' a ete appuyer\"\n",
    "                    monTexte = chr(event.key).upper()\n",
    "                    print(monTexte)\n",
    "                if event.key == pygame.K_q:\n",
    "                    print(\"A bientot\")\n",
    "                    continuer = False\n",
    "                elif event.key == pygame.K_r:\n",
    "                    couleur = \"0xFF0000\"\n",
    "                elif event.key == pygame.K_g:\n",
    "                    couleur = \"0x00FF00\"\n",
    "                elif event.key == pygame.K_b:\n",
    "                    couleur = \"0x0000FF\"\n",
    "        \n",
    "        ecran.fill(\"0xE4E4E4\")\n",
    "        \n",
    "        surface = font.render(monTexte, True, couleur)\n",
    "        surfaceRect = surface.get_rect()\n",
    "        # surfaceRect.x = ecranRect.w/2 - surfaceRect.w/2 + vitesse.x\n",
    "        # surfaceRect.y = ecranRect.h/2 - surfaceRect.h/2 + vitesse.y\n",
    "        \n",
    "        position.y = position.y + vitesse.y\n",
    "        position.x = position.x + vitesse.x\n",
    "        # surfaceRect.y = position.y\n",
    "\n",
    "        if position.y > (ecranRect.h - surfaceRect.h) or position.y < 0:\n",
    "            ison =not(ison)\n",
    "            cal = color[ison]\n",
    "            # position.y = 0\n",
    "            vitesse.y = - vitesse.y\n",
    "\n",
    "        if position.x > (ecranRect.w - surfaceRect.w) or position.x < 0:\n",
    "            ison =not(ison)\n",
    "            cal = color[ison]\n",
    "            # position.y = 0\n",
    "            vitesse.x = - vitesse.x\n",
    "\n",
    "        surfaceRect.x = position.x\n",
    "        surfaceRect.y = position.y\n",
    "        time.sleep(0.1)\n",
    "        # surfaceRect = pygame.Rect((100, 200), (32, len(monTexte)*32))\n",
    "\n",
    "        # ecran.blit(, pygame.Rect(100, 200))\n",
    "\n",
    "        #figure\n",
    "        origine = (ecranRect.w/2, ecranRect.h/2)\n",
    "        phi = phi + vitesseRotation\n",
    "        phi = phi%(2*pi)\n",
    "        \n",
    "        \n",
    "        drawpolygoneRegulier(ecran,cal,10,origine,50,phi)\n",
    "        drawpolygoneRegulier(ecran,\"0xff00DC\",10,(origine[0]+100,origine[1]+100),50,phi)\n",
    "        ecran.blit(surface, surfaceRect)\n",
    "        pygame.display.update()\n",
    "\n",
    "    pygame.quit()\n",
    "\n",
    "if __name__ == \"__main__\":\n",
    "    main()"
   ]
  },
  {
   "cell_type": "code",
   "execution_count": 1,
   "metadata": {},
   "outputs": [
    {
     "name": "stdout",
     "output_type": "stream",
     "text": [
      "pygame 2.5.2 (SDL 2.28.3, Python 3.12.3)\n",
      "Hello from the pygame community. https://www.pygame.org/contribute.html\n"
     ]
    },
    {
     "ename": "TypeError",
     "evalue": "Modbus.lireBit() missing 1 required positional argument: 'adresse'",
     "output_type": "error",
     "traceback": [
      "\u001b[1;31m---------------------------------------------------------------------------\u001b[0m",
      "\u001b[1;31mTypeError\u001b[0m                                 Traceback (most recent call last)",
      "\u001b[1;32mc:\\Users\\cfono\\Desktop\\TP supervision\\supervision.ipynb Cell 6\u001b[0m line \u001b[0;36m6\n\u001b[0;32m     <a href='vscode-notebook-cell:/c%3A/Users/cfono/Desktop/TP%20supervision/supervision.ipynb#W5sZmlsZQ%3D%3D?line=65'>66</a>\u001b[0m     pygame\u001b[39m.\u001b[39mquit()\n\u001b[0;32m     <a href='vscode-notebook-cell:/c%3A/Users/cfono/Desktop/TP%20supervision/supervision.ipynb#W5sZmlsZQ%3D%3D?line=67'>68</a>\u001b[0m \u001b[39mif\u001b[39;00m \u001b[39m__name__\u001b[39m \u001b[39m==\u001b[39m \u001b[39m\"\u001b[39m\u001b[39m__main__\u001b[39m\u001b[39m\"\u001b[39m:\n\u001b[1;32m---> <a href='vscode-notebook-cell:/c%3A/Users/cfono/Desktop/TP%20supervision/supervision.ipynb#W5sZmlsZQ%3D%3D?line=68'>69</a>\u001b[0m     main()\n",
      "\u001b[1;32mc:\\Users\\cfono\\Desktop\\TP supervision\\supervision.ipynb Cell 6\u001b[0m line \u001b[0;36m4\n\u001b[0;32m     <a href='vscode-notebook-cell:/c%3A/Users/cfono/Desktop/TP%20supervision/supervision.ipynb#W5sZmlsZQ%3D%3D?line=45'>46</a>\u001b[0m     \u001b[39mif\u001b[39;00m event\u001b[39m.\u001b[39mtype \u001b[39m==\u001b[39m pygame\u001b[39m.\u001b[39mQUIT:\n\u001b[0;32m     <a href='vscode-notebook-cell:/c%3A/Users/cfono/Desktop/TP%20supervision/supervision.ipynb#W5sZmlsZQ%3D%3D?line=46'>47</a>\u001b[0m         continuer \u001b[39m=\u001b[39m \u001b[39mFalse\u001b[39;00m\n\u001b[1;32m---> <a href='vscode-notebook-cell:/c%3A/Users/cfono/Desktop/TP%20supervision/supervision.ipynb#W5sZmlsZQ%3D%3D?line=48'>49</a>\u001b[0m ison \u001b[39m=\u001b[39m modbus\u001b[39m.\u001b[39;49mlireBit(\u001b[39m305\u001b[39;49m)\n\u001b[0;32m     <a href='vscode-notebook-cell:/c%3A/Users/cfono/Desktop/TP%20supervision/supervision.ipynb#W5sZmlsZQ%3D%3D?line=49'>50</a>\u001b[0m ecran\u001b[39m.\u001b[39mfill(\u001b[39m\"\u001b[39m\u001b[39m0xE4E4E4\u001b[39m\u001b[39m\"\u001b[39m)\n\u001b[0;32m     <a href='vscode-notebook-cell:/c%3A/Users/cfono/Desktop/TP%20supervision/supervision.ipynb#W5sZmlsZQ%3D%3D?line=51'>52</a>\u001b[0m surface \u001b[39m=\u001b[39m font\u001b[39m.\u001b[39mrender(monTexte, \u001b[39mTrue\u001b[39;00m, couleur)\n",
      "\u001b[1;31mTypeError\u001b[0m: Modbus.lireBit() missing 1 required positional argument: 'adresse'"
     ]
    },
    {
     "ename": "",
     "evalue": "",
     "output_type": "error",
     "traceback": [
      "\u001b[1;31mThe Kernel crashed while executing code in the the current cell or a previous cell. Please review the code in the cell(s) to identify a possible cause of the failure. Click <a href='https://aka.ms/vscodeJupyterKernelCrash'>here</a> for more info. View Jupyter <a href='command:jupyter.viewOutput'>log</a> for further details."
     ]
    }
   ],
   "source": [
    "from math import cos, sin, pi\n",
    "import random\n",
    "import time\n",
    "import pygame\n",
    "from modbus import Modbus\n",
    "\n",
    "def drawpolygoneRegulier(surface,couleur,nombrepoints,origine,r=1,phi=0):\n",
    "    points = []\n",
    "\n",
    "    for i in range(nombrepoints):\n",
    "        x= r*cos(2*i*pi/nombrepoints + phi) + origine[0]\n",
    "        y= r*sin(2*i*pi/nombrepoints + phi) + origine[0]\n",
    "        point =(x,y)\n",
    "        points.append(point)\n",
    "\n",
    "    pygame.draw.polygon(surface,couleur,points)\n",
    "\n",
    "\n",
    "\n",
    "def main():\n",
    "    pygame.init()\n",
    "    modbus = Modbus\n",
    "    ecran = pygame.display.set_mode((640, 480))\n",
    "    ecranRect = ecran.get_rect()\n",
    "\n",
    "    # font = pygame.font.SysFont()\n",
    "    fontName = pygame.font.get_default_font()\n",
    "    font = pygame.font.Font(fontName, 32)\n",
    "    monTexte = \"\"\n",
    "    couleur = \"0x000000\"\n",
    "\n",
    "    vitesse = pygame.Rect((10, 10), (0, 0))\n",
    "    position = pygame.Rect((0, 0), (0, 0))\n",
    "    phi = 0\n",
    "    vitesseRotation = pi/128\n",
    "\n",
    "\n",
    "\n",
    "    continuer = True\n",
    "    ison = False\n",
    "    color = ['0xFF0000',\"0x00FF00\",\"0x0000FF\"]\n",
    "    cal = color[ison]\n",
    "\n",
    "    while continuer:\n",
    "        for event in pygame.event.get():\n",
    "            if event.type == pygame.QUIT:\n",
    "                continuer = False\n",
    "\n",
    "        ison = modbus.lireBit(305)\n",
    "        ecran.fill(\"0xE4E4E4\")\n",
    "        \n",
    "        surface = font.render(monTexte, True, couleur)\n",
    "        surfaceRect = surface.get_rect()\n",
    "\n",
    "        \n",
    "        origine = (ecranRect.w/2, ecranRect.h/2)\n",
    "        phi = phi + vitesseRotation\n",
    "        phi = phi%(2*pi)\n",
    "        \n",
    "        \n",
    "        drawpolygoneRegulier(ecran,cal,10,origine,50,phi)\n",
    "        ecran.blit(surface, surfaceRect)\n",
    "        pygame.display.update()\n",
    "\n",
    "    modbus.close()\n",
    "    pygame.quit()\n",
    "\n",
    "if __name__ == \"__main__\":\n",
    "    main()"
   ]
  },
  {
   "cell_type": "code",
   "execution_count": null,
   "metadata": {},
   "outputs": [],
   "source": []
  }
 ],
 "metadata": {
  "kernelspec": {
   "display_name": "base",
   "language": "python",
   "name": "python3"
  },
  "language_info": {
   "codemirror_mode": {
    "name": "ipython",
    "version": 3
   },
   "file_extension": ".py",
   "mimetype": "text/x-python",
   "name": "python",
   "nbconvert_exporter": "python",
   "pygments_lexer": "ipython3",
   "version": "3.12.3"
  }
 },
 "nbformat": 4,
 "nbformat_minor": 2
}
