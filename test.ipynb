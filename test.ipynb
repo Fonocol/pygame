{
 "cells": [
  {
   "cell_type": "code",
   "execution_count": 1,
   "metadata": {},
   "outputs": [
    {
     "data": {
      "text/plain": [
       "2"
      ]
     },
     "execution_count": 1,
     "metadata": {},
     "output_type": "execute_result"
    }
   ],
   "source": [
    "1+1"
   ]
  },
  {
   "cell_type": "code",
   "execution_count": 2,
   "metadata": {},
   "outputs": [
    {
     "name": "stdout",
     "output_type": "stream",
     "text": [
      "1\n",
      "1\n"
     ]
    }
   ],
   "source": [
    "for i in range(2):\n",
    "    print(1)"
   ]
  },
  {
   "cell_type": "code",
   "execution_count": 4,
   "metadata": {},
   "outputs": [
    {
     "name": "stdout",
     "output_type": "stream",
     "text": [
      "Collecting pygame\n",
      "  Downloading pygame-2.5.2-cp312-cp312-win_amd64.whl.metadata (13 kB)\n",
      "Downloading pygame-2.5.2-cp312-cp312-win_amd64.whl (10.8 MB)\n",
      "   ---------------------------------------- 0.0/10.8 MB ? eta -:--:--\n",
      "   ---------------------------------------- 0.0/10.8 MB ? eta -:--:--\n",
      "   ---------------------------------------- 0.1/10.8 MB 1.3 MB/s eta 0:00:09\n",
      "   - -------------------------------------- 0.5/10.8 MB 4.2 MB/s eta 0:00:03\n",
      "   ----- ---------------------------------- 1.5/10.8 MB 8.6 MB/s eta 0:00:02\n",
      "   --------- ------------------------------ 2.7/10.8 MB 13.2 MB/s eta 0:00:01\n",
      "   ----------- ---------------------------- 3.2/10.8 MB 12.7 MB/s eta 0:00:01\n",
      "   ------------- -------------------------- 3.5/10.8 MB 11.9 MB/s eta 0:00:01\n",
      "   --------------- ------------------------ 4.1/10.8 MB 11.9 MB/s eta 0:00:01\n",
      "   ------------------ --------------------- 4.9/10.8 MB 12.5 MB/s eta 0:00:01\n",
      "   ----------------------- ---------------- 6.3/10.8 MB 13.8 MB/s eta 0:00:01\n",
      "   ------------------------------- -------- 8.4/10.8 MB 16.9 MB/s eta 0:00:01\n",
      "   ---------------------------------------  10.8/10.8 MB 24.3 MB/s eta 0:00:01\n",
      "   ---------------------------------------  10.8/10.8 MB 24.3 MB/s eta 0:00:01\n",
      "   ---------------------------------------  10.8/10.8 MB 24.3 MB/s eta 0:00:01\n",
      "   ---------------------------------------- 10.8/10.8 MB 19.9 MB/s eta 0:00:00\n",
      "Installing collected packages: pygame\n",
      "Successfully installed pygame-2.5.2\n",
      "Note: you may need to restart the kernel to use updated packages.\n"
     ]
    }
   ],
   "source": [
    "pip install pygame"
   ]
  },
  {
   "cell_type": "code",
   "execution_count": 5,
   "metadata": {},
   "outputs": [
    {
     "name": "stdout",
     "output_type": "stream",
     "text": [
      "pygame 2.5.2 (SDL 2.28.3, Python 3.12.2)\n",
      "Hello from the pygame community. https://www.pygame.org/contribute.html\n"
     ]
    }
   ],
   "source": [
    "import pygame"
   ]
  },
  {
   "cell_type": "code",
   "execution_count": 6,
   "metadata": {},
   "outputs": [
    {
     "name": "stdout",
     "output_type": "stream",
     "text": [
      "Collecting pymodbus\n",
      "  Downloading pymodbus-3.6.6-py3-none-any.whl.metadata (14 kB)\n",
      "Downloading pymodbus-3.6.6-py3-none-any.whl (185 kB)\n",
      "   ---------------------------------------- 0.0/185.4 kB ? eta -:--:--\n",
      "   -- ------------------------------------- 10.2/185.4 kB ? eta -:--:--\n",
      "   ------------ -------------------------- 61.4/185.4 kB 825.8 kB/s eta 0:00:01\n",
      "   ---------------------------------------  184.3/185.4 kB 1.9 MB/s eta 0:00:01\n",
      "   ---------------------------------------- 185.4/185.4 kB 1.4 MB/s eta 0:00:00\n",
      "Installing collected packages: pymodbus\n",
      "Successfully installed pymodbus-3.6.6\n",
      "Note: you may need to restart the kernel to use updated packages.\n"
     ]
    },
    {
     "name": "stderr",
     "output_type": "stream",
     "text": [
      "  WARNING: The script pymodbus.simulator.exe is installed in 'c:\\Users\\cfono\\AppData\\Local\\Programs\\Python\\Python312\\Scripts' which is not on PATH.\n",
      "  Consider adding this directory to PATH or, if you prefer to suppress this warning, use --no-warn-script-location.\n"
     ]
    }
   ],
   "source": [
    "pip install pymodbus"
   ]
  },
  {
   "cell_type": "code",
   "execution_count": 7,
   "metadata": {},
   "outputs": [],
   "source": [
    "import pymodbus"
   ]
  },
  {
   "cell_type": "code",
   "execution_count": 1,
   "metadata": {},
   "outputs": [],
   "source": [
    "from modbus import Modbus"
   ]
  },
  {
   "cell_type": "code",
   "execution_count": 5,
   "metadata": {},
   "outputs": [
    {
     "name": "stdout",
     "output_type": "stream",
     "text": [
      "Note: you may need to restart the kernel to use updated packages.\n",
      "Collecting matplotlib\n",
      "  Downloading matplotlib-3.8.3-cp312-cp312-win_amd64.whl.metadata (5.9 kB)\n",
      "Collecting contourpy>=1.0.1 (from matplotlib)\n",
      "  Downloading contourpy-1.2.0-cp312-cp312-win_amd64.whl.metadata (5.8 kB)\n",
      "Collecting cycler>=0.10 (from matplotlib)\n",
      "  Downloading cycler-0.12.1-py3-none-any.whl.metadata (3.8 kB)\n",
      "Collecting fonttools>=4.22.0 (from matplotlib)\n",
      "  Downloading fonttools-4.50.0-cp312-cp312-win_amd64.whl.metadata (162 kB)\n",
      "     ---------------------------------------- 0.0/162.6 kB ? eta -:--:--\n",
      "     ------ ------------------------------ 30.7/162.6 kB 640.0 kB/s eta 0:00:01\n",
      "     ----------------------------------- -- 153.6/162.6 kB 1.8 MB/s eta 0:00:01\n",
      "     -------------------------------------- 162.6/162.6 kB 1.6 MB/s eta 0:00:00\n",
      "Collecting kiwisolver>=1.3.1 (from matplotlib)\n",
      "  Downloading kiwisolver-1.4.5-cp312-cp312-win_amd64.whl.metadata (6.5 kB)\n",
      "Collecting numpy<2,>=1.21 (from matplotlib)\n",
      "  Downloading numpy-1.26.4-cp312-cp312-win_amd64.whl.metadata (61 kB)\n",
      "     ---------------------------------------- 0.0/61.0 kB ? eta -:--:--\n",
      "     ---------------------------------------- 61.0/61.0 kB 3.4 MB/s eta 0:00:00\n",
      "Requirement already satisfied: packaging>=20.0 in c:\\users\\cfono\\appdata\\roaming\\python\\python312\\site-packages (from matplotlib) (24.0)\n",
      "Collecting pillow>=8 (from matplotlib)\n",
      "  Downloading pillow-10.2.0-cp312-cp312-win_amd64.whl.metadata (9.9 kB)\n",
      "Collecting pyparsing>=2.3.1 (from matplotlib)\n",
      "  Downloading pyparsing-3.1.2-py3-none-any.whl.metadata (5.1 kB)\n",
      "Requirement already satisfied: python-dateutil>=2.7 in c:\\users\\cfono\\appdata\\roaming\\python\\python312\\site-packages (from matplotlib) (2.9.0.post0)\n",
      "Requirement already satisfied: six>=1.5 in c:\\users\\cfono\\appdata\\roaming\\python\\python312\\site-packages (from python-dateutil>=2.7->matplotlib) (1.16.0)\n",
      "Downloading matplotlib-3.8.3-cp312-cp312-win_amd64.whl (7.6 MB)\n",
      "   ---------------------------------------- 0.0/7.6 MB ? eta -:--:--\n",
      "   -- ------------------------------------- 0.5/7.6 MB 9.8 MB/s eta 0:00:01\n",
      "   ------ --------------------------------- 1.3/7.6 MB 13.7 MB/s eta 0:00:01\n",
      "   ---------- ----------------------------- 2.0/7.6 MB 16.2 MB/s eta 0:00:01\n",
      "   --------------- ------------------------ 3.0/7.6 MB 17.3 MB/s eta 0:00:01\n",
      "   -------------------- ------------------- 3.9/7.6 MB 18.0 MB/s eta 0:00:01\n",
      "   ------------------------- -------------- 4.9/7.6 MB 18.3 MB/s eta 0:00:01\n",
      "   ------------------------------ --------- 5.9/7.6 MB 18.7 MB/s eta 0:00:01\n",
      "   ----------------------------------- ---- 6.8/7.6 MB 18.9 MB/s eta 0:00:01\n",
      "   ---------------------------------------  7.6/7.6 MB 18.8 MB/s eta 0:00:01\n",
      "   ---------------------------------------- 7.6/7.6 MB 16.9 MB/s eta 0:00:00\n",
      "Downloading contourpy-1.2.0-cp312-cp312-win_amd64.whl (187 kB)\n",
      "   ---------------------------------------- 0.0/187.7 kB ? eta -:--:--\n",
      "   ---------------------------------------- 187.7/187.7 kB 5.7 MB/s eta 0:00:00\n",
      "Downloading cycler-0.12.1-py3-none-any.whl (8.3 kB)\n",
      "Downloading fonttools-4.50.0-cp312-cp312-win_amd64.whl (2.2 MB)\n",
      "   ---------------------------------------- 0.0/2.2 MB ? eta -:--:--\n",
      "   ------------- -------------------------- 0.8/2.2 MB 23.4 MB/s eta 0:00:01\n",
      "   ------------------------------- -------- 1.7/2.2 MB 21.8 MB/s eta 0:00:01\n",
      "   ---------------------------------------  2.2/2.2 MB 23.0 MB/s eta 0:00:01\n",
      "   ---------------------------------------- 2.2/2.2 MB 17.3 MB/s eta 0:00:00\n",
      "Downloading kiwisolver-1.4.5-cp312-cp312-win_amd64.whl (56 kB)\n",
      "   ---------------------------------------- 0.0/56.0 kB ? eta -:--:--\n",
      "   ---------------------------------------- 56.0/56.0 kB 1.4 MB/s eta 0:00:00\n",
      "Downloading numpy-1.26.4-cp312-cp312-win_amd64.whl (15.5 MB)\n",
      "   ---------------------------------------- 0.0/15.5 MB ? eta -:--:--\n",
      "   -- ------------------------------------- 0.8/15.5 MB 26.1 MB/s eta 0:00:01\n",
      "   ---- ----------------------------------- 1.8/15.5 MB 23.2 MB/s eta 0:00:01\n",
      "   ------- -------------------------------- 2.8/15.5 MB 22.7 MB/s eta 0:00:01\n",
      "   --------- ------------------------------ 3.9/15.5 MB 22.4 MB/s eta 0:00:01\n",
      "   ------------ --------------------------- 4.9/15.5 MB 22.4 MB/s eta 0:00:01\n",
      "   --------------- ------------------------ 5.9/15.5 MB 22.1 MB/s eta 0:00:01\n",
      "   ----------------- ---------------------- 6.8/15.5 MB 21.8 MB/s eta 0:00:01\n",
      "   -------------------- ------------------- 7.9/15.5 MB 21.8 MB/s eta 0:00:01\n",
      "   --------------------- ------------------ 8.4/15.5 MB 22.3 MB/s eta 0:00:01\n",
      "   ----------------------- ---------------- 9.0/15.5 MB 20.6 MB/s eta 0:00:01\n",
      "   ------------------------- -------------- 9.8/15.5 MB 20.1 MB/s eta 0:00:01\n",
      "   --------------------------- ------------ 10.5/15.5 MB 19.3 MB/s eta 0:00:01\n",
      "   ---------------------------- ----------- 11.2/15.5 MB 18.7 MB/s eta 0:00:01\n",
      "   ------------------------------ --------- 11.9/15.5 MB 18.7 MB/s eta 0:00:01\n",
      "   -------------------------------- ------- 12.6/15.5 MB 18.2 MB/s eta 0:00:01\n",
      "   ---------------------------------- ----- 13.3/15.5 MB 17.7 MB/s eta 0:00:01\n",
      "   ----------------------------------- ---- 13.9/15.5 MB 16.8 MB/s eta 0:00:01\n",
      "   ------------------------------------- -- 14.6/15.5 MB 16.8 MB/s eta 0:00:01\n",
      "   ---------------------------------------  15.4/15.5 MB 16.4 MB/s eta 0:00:01\n",
      "   ---------------------------------------  15.5/15.5 MB 16.0 MB/s eta 0:00:01\n",
      "   ---------------------------------------- 15.5/15.5 MB 14.9 MB/s eta 0:00:00\n",
      "Downloading pillow-10.2.0-cp312-cp312-win_amd64.whl (2.6 MB)\n",
      "   ---------------------------------------- 0.0/2.6 MB ? eta -:--:--\n",
      "   ----------- ---------------------------- 0.8/2.6 MB 16.3 MB/s eta 0:00:01\n",
      "   ----------------------- ---------------- 1.6/2.6 MB 16.4 MB/s eta 0:00:01\n",
      "   ----------------------------------- ---- 2.3/2.6 MB 16.5 MB/s eta 0:00:01\n",
      "   ---------------------------------------  2.6/2.6 MB 16.7 MB/s eta 0:00:01\n",
      "   ---------------------------------------- 2.6/2.6 MB 14.0 MB/s eta 0:00:00\n",
      "Downloading pyparsing-3.1.2-py3-none-any.whl (103 kB)\n",
      "   ---------------------------------------- 0.0/103.2 kB ? eta -:--:--\n",
      "   ---------------------------------------- 103.2/103.2 kB 2.0 MB/s eta 0:00:00\n",
      "Installing collected packages: pyparsing, pillow, numpy, kiwisolver, fonttools, cycler, contourpy, matplotlib\n",
      "Successfully installed contourpy-1.2.0 cycler-0.12.1 fonttools-4.50.0 kiwisolver-1.4.5 matplotlib-3.8.3 numpy-1.26.4 pillow-10.2.0 pyparsing-3.1.2\n"
     ]
    },
    {
     "name": "stderr",
     "output_type": "stream",
     "text": [
      "  WARNING: The script f2py.exe is installed in 'c:\\Users\\cfono\\AppData\\Local\\Programs\\Python\\Python312\\Scripts' which is not on PATH.\n",
      "  Consider adding this directory to PATH or, if you prefer to suppress this warning, use --no-warn-script-location.\n",
      "  WARNING: The scripts fonttools.exe, pyftmerge.exe, pyftsubset.exe and ttx.exe are installed in 'c:\\Users\\cfono\\AppData\\Local\\Programs\\Python\\Python312\\Scripts' which is not on PATH.\n",
      "  Consider adding this directory to PATH or, if you prefer to suppress this warning, use --no-warn-script-location.\n"
     ]
    }
   ],
   "source": [
    "pip install matplotlib"
   ]
  },
  {
   "cell_type": "code",
   "execution_count": 10,
   "metadata": {},
   "outputs": [
    {
     "data": {
      "text/plain": [
       "[<matplotlib.lines.Line2D at 0x18450fa0f50>]"
      ]
     },
     "execution_count": 10,
     "metadata": {},
     "output_type": "execute_result"
    },
    {
     "data": {
      "image/png": "[encoded data removed]",
      "text/plain": [
       "<Figure size 640x480 with 1 Axes>"
      ]
     },
     "metadata": {},
     "output_type": "display_data"
    }
   ],
   "source": [
    "import matplotlib.pyplot as plt\n",
    "from math import exp\n",
    "\n",
    "x = [ i*0.1 for i in range(100)]\n",
    "\n",
    "def f(x):\n",
    "    return exp(x)\n",
    "\n",
    "y=[f(i) for i in x]\n",
    "\n",
    "plt.plot(x,y)"
   ]
  },
  {
   "cell_type": "code",
   "execution_count": 9,
   "metadata": {},
   "outputs": [
    {
     "data": {
      "text/plain": [
       "2.718281828459045"
      ]
     },
     "execution_count": 9,
     "metadata": {},
     "output_type": "execute_result"
    }
   ],
   "source": [
    "f(1)"
   ]
  },
  {
   "cell_type": "code",
   "execution_count": 2,
   "metadata": {},
   "outputs": [],
   "source": [
    "def affiche():\n",
    "    print('hello')"
   ]
  },
  {
   "cell_type": "code",
   "execution_count": 3,
   "metadata": {},
   "outputs": [
    {
     "name": "stdout",
     "output_type": "stream",
     "text": [
      "hello\n"
     ]
    }
   ],
   "source": [
    "affiche()"
   ]
  },
  {
   "cell_type": "code",
   "execution_count": 11,
   "metadata": {},
   "outputs": [],
   "source": [
    "li = []\n",
    "\n",
    "li = [i for i in range(20)]"
   ]
  },
  {
   "cell_type": "code",
   "execution_count": 12,
   "metadata": {},
   "outputs": [
    {
     "data": {
      "text/plain": [
       "0"
      ]
     },
     "execution_count": 12,
     "metadata": {},
     "output_type": "execute_result"
    }
   ],
   "source": [
    "li[0]"
   ]
  },
  {
   "cell_type": "code",
   "execution_count": 13,
   "metadata": {},
   "outputs": [
    {
     "data": {
      "text/plain": [
       "5"
      ]
     },
     "execution_count": 13,
     "metadata": {},
     "output_type": "execute_result"
    }
   ],
   "source": [
    "li[5\n",
    "   ]"
   ]
  },
  {
   "cell_type": "code",
   "execution_count": 14,
   "metadata": {},
   "outputs": [
    {
     "data": {
      "text/plain": [
       "20"
      ]
     },
     "execution_count": 14,
     "metadata": {},
     "output_type": "execute_result"
    }
   ],
   "source": [
    "len(li)"
   ]
  },
  {
   "cell_type": "code",
   "execution_count": 15,
   "metadata": {},
   "outputs": [],
   "source": [
    "tu = (2,7)"
   ]
  },
  {
   "cell_type": "code",
   "execution_count": 16,
   "metadata": {},
   "outputs": [
    {
     "data": {
      "text/plain": [
       "7"
      ]
     },
     "execution_count": 16,
     "metadata": {},
     "output_type": "execute_result"
    }
   ],
   "source": [
    "tu[1]"
   ]
  },
  {
   "cell_type": "code",
   "execution_count": 17,
   "metadata": {},
   "outputs": [
    {
     "name": "stdout",
     "output_type": "stream",
     "text": [
      "je suis le :chien\n",
      "je suis le :chat\n",
      "je suis le :poule\n"
     ]
    }
   ],
   "source": [
    "animaux = ['chien','chat','poule']\n",
    "\n",
    "for anim in animaux:\n",
    "    print('je suis le :'+ anim)"
   ]
  },
  {
   "cell_type": "code",
   "execution_count": 18,
   "metadata": {},
   "outputs": [],
   "source": [
    "from math import sin\n",
    "\n"
   ]
  },
  {
   "cell_type": "code",
   "execution_count": null,
   "metadata": {},
   "outputs": [
    {
     "ename": "AttributeError",
     "evalue": "module 'pygame' has no attribute 'fond'",
     "output_type": "error",
     "traceback": [
      "\u001b[1;31m---------------------------------------------------------------------------\u001b[0m",
      "\u001b[1;31mAttributeError\u001b[0m                            Traceback (most recent call last)",
      "Cell \u001b[1;32mIn[5], line 23\u001b[0m\n\u001b[0;32m     18\u001b[0m             pyg\u001b[38;5;241m.\u001b[39mdisplay\u001b[38;5;241m.\u001b[39mupdate()\n\u001b[0;32m     19\u001b[0m     pyg\u001b[38;5;241m.\u001b[39mquit()\n\u001b[1;32m---> 23\u001b[0m \u001b[43mmain\u001b[49m\u001b[43m(\u001b[49m\u001b[43m)\u001b[49m\n",
      "Cell \u001b[1;32mIn[5], line 9\u001b[0m, in \u001b[0;36mmain\u001b[1;34m()\u001b[0m\n\u001b[0;32m      6\u001b[0m ecran_rec \u001b[38;5;241m=\u001b[39m ecran\u001b[38;5;241m.\u001b[39mget_rect()\n\u001b[0;32m      7\u001b[0m continuer \u001b[38;5;241m=\u001b[39m \u001b[38;5;28;01mTrue\u001b[39;00m\n\u001b[1;32m----> 9\u001b[0m fond \u001b[38;5;241m=\u001b[39m \u001b[43mpyg\u001b[49m\u001b[38;5;241;43m.\u001b[39;49m\u001b[43mfond\u001b[49m\u001b[38;5;241m.\u001b[39mSysFond(\u001b[38;5;28;01mNone\u001b[39;00m,\u001b[38;5;241m24\u001b[39m)\n\u001b[0;32m     10\u001b[0m image\u001b[38;5;241m=\u001b[39mfond\u001b[38;5;241m.\u001b[39mrender(\u001b[38;5;124m\"\u001b[39m\u001b[38;5;124mFono\u001b[39m\u001b[38;5;124m\"\u001b[39m,\u001b[38;5;28;01mTrue\u001b[39;00m,\u001b[38;5;124m\"\u001b[39m\u001b[38;5;124m#ffffff\u001b[39m\u001b[38;5;124m\"\u001b[39m)\n\u001b[0;32m     11\u001b[0m rect \u001b[38;5;241m=\u001b[39m image\u001b[38;5;241m.\u001b[39mget_rect()\n",
      "\u001b[1;31mAttributeError\u001b[0m: module 'pygame' has no attribute 'fond'"
     ]
    },
    {
     "ename": "",
     "evalue": "",
     "output_type": "error",
     "traceback": [
      "\u001b[1;31mThe Kernel crashed while executing code in the current cell or a previous cell. \n",
      "\u001b[1;31mPlease review the code in the cell(s) to identify a possible cause of the failure. \n",
      "\u001b[1;31mClick <a href='https://aka.ms/vscodeJupyterKernelCrash'>here</a> for more info. \n",
      "\u001b[1;31mView Jupyter <a href='command:jupyter.viewOutput'>log</a> for further details."
     ]
    }
   ],
   "source": [
    "import pygame as pyg\n",
    "from modbus import Modbus\n",
    "\n",
    "def main():\n",
    "    pyg.init()\n",
    "    ecran = pyg.display.set_mode((1024,480))\n",
    "    ecran_rec = ecran.get_rect()\n",
    "    continuer = True\n",
    "\n",
    "    fond = pyg.fond.SysFond(None,24)\n",
    "    image=fond.render(\"Fono\",True,\"#ffffff\")\n",
    "    rect = image.get_rect()\n",
    "\n",
    "    while continuer:\n",
    "        for event in pyg.event.get():\n",
    "            if event.type == pyg.QUIT:\n",
    "                continuer = False\n",
    "            ecran.blit(image,(ecran_rec.w/2-rect, ecran_rec.h/2-rec.h/2))\n",
    "            pyg.display.update()\n",
    "    pyg.quit()\n",
    "\n",
    "\n",
    "\n",
    "main()"
   ]
  },
  {
   "cell_type": "code",
   "execution_count": 4,
   "metadata": {},
   "outputs": [
    {
     "name": "stdout",
     "output_type": "stream",
     "text": [
      "start\n",
      "reset\n",
      "Quit\n"
     ]
    },
    {
     "ename": "SystemExit",
     "evalue": "",
     "output_type": "error",
     "traceback": [
      "An exception has occurred, use %tb to see the full traceback.\n",
      "\u001b[1;31mSystemExit\u001b[0m\n"
     ]
    }
   ],
   "source": [
    "#! /usr/bin/env python3\n",
    "# -*- coding: utf-8 -*-\n",
    "\n",
    "# server_gui.py\n",
    "\n",
    "#############################################################################\n",
    "# Copyright (C) Labomedia February 2015\n",
    "#\n",
    "#  This program is free software; you can redistribute it and/or\n",
    "#  modify it under the terms of the GNU General Public License\n",
    "#  as published by the Free Software Foundation; either version 2\n",
    "#  of the License, or (at your option) any later version.\n",
    "#\n",
    "#  This program is distributed in the hope that it will be useful,\n",
    "#  but WITHOUT ANY WARRANTY; without even the implied warranty of\n",
    "#  MERCHANTABILITY or FITNESS FOR A PARTICULAR PURPOSE.  See the\n",
    "#  GNU General Public License for more details.\n",
    "#\n",
    "#  You should have received a copy of the GNU General Public License\n",
    "#  along with this program; if not, write to the Free Software Foundation,\n",
    "#  Inc., 51 Franproplin Street, Fifth Floor, Boston, MA 02110-1301, USA.\n",
    "#\n",
    "#############################################################################\n",
    "\n",
    "import pygame\n",
    "import sys\n",
    "\n",
    "pygame.init()\n",
    "clock = pygame.time.Clock()\n",
    "\n",
    "BLACK = 0, 0, 0\n",
    "WHITE = 255, 255, 255\n",
    "CIEL = 0, 200, 255\n",
    "RED = 255, 0, 0\n",
    "ORANGE = 255, 100, 0\n",
    "GREEN = 0, 255, 0\n",
    "\n",
    "\n",
    "class Button:\n",
    "    '''Ajout d'un bouton avec un texte sur img\n",
    "    Astuce: ajouter des espaces dans les textes pour avoir une même largeur\n",
    "    de boutons\n",
    "    dx, dy décalage du bouton par rapport au centre\n",
    "    action si click\n",
    "    Texte noir\n",
    "    '''\n",
    "\n",
    "    def __init__(self, fond, text, color, font, dx, dy):\n",
    "        self.fond = fond\n",
    "        self.text = text\n",
    "        self.color = color\n",
    "        self.font = font\n",
    "        self.dec = dx, dy\n",
    "        self.state = False  # enable or not\n",
    "        self.title = self.font.render(self.text, True, BLACK)\n",
    "        textpos = self.title.get_rect()\n",
    "        textpos.centerx = self.fond.get_rect().centerx + self.dec[0]\n",
    "        textpos.centery = self.dec[1]\n",
    "        self.textpos = [textpos[0], textpos[1], textpos[2], textpos[3]]\n",
    "        self.rect = pygame.draw.rect(self.fond, self.color, self.textpos)\n",
    "        self.fond.blit(self.title, self.textpos)\n",
    "\n",
    "    def update_button(self, fond, action=None):\n",
    "        self.fond = fond\n",
    "        mouse_xy = pygame.mouse.get_pos()\n",
    "        over = self.rect.collidepoint(mouse_xy)\n",
    "        if over:\n",
    "            action()\n",
    "            if self.color == RED:\n",
    "                self.color = GREEN\n",
    "                self.state = True\n",
    "            elif self.color == GREEN:\n",
    "                # sauf les + et -, pour que ce soit toujours vert\n",
    "                if len(self.text) > 5:  # 5 char avec les espaces\n",
    "                    self.color = RED\n",
    "                self.state = False\n",
    "        # à la bonne couleur\n",
    "        self.rect = pygame.draw.rect(self.fond, self.color, self.textpos)\n",
    "        self.fond.blit(self.title, self.textpos)\n",
    "\n",
    "    def display_button(self, fond):\n",
    "        self.fond = fond\n",
    "        self.rect = pygame.draw.rect(self.fond, self.color, self.textpos)\n",
    "        self.fond.blit(self.title, self.textpos)\n",
    "\n",
    "\n",
    "class Game:\n",
    "    def __init__(self):\n",
    "        self.screen = pygame.display.set_mode((640, 480))\n",
    "        self.level = 1\n",
    "        self.loop = True\n",
    "\n",
    "        # Définition de la police\n",
    "        self.big = pygame.font.SysFont('freesans', 48)\n",
    "        self.small = pygame.font.SysFont('freesans', 36)\n",
    "\n",
    "        self.create_fond()\n",
    "        self.create_button()\n",
    "\n",
    "    def update_textes(self):\n",
    "        self.textes = [ [\"Buggy Server\", ORANGE, self.big, 0, 50],\n",
    "                        [\"Level\", BLACK, self.small, 0, 150],\n",
    "                        [str(self.level), BLACK, self.small, 0, 200]]\n",
    "\n",
    "    def create_fond(self):\n",
    "        # Image de la taille de la fenêtre\n",
    "        self.fond = pygame.Surface(self.screen.get_size())\n",
    "        # En bleu\n",
    "        self.fond.fill(CIEL)\n",
    "\n",
    "    def create_button(self):\n",
    "        self.reset_button = Button(self.fond, \"   Reset   \", RED, self.small, 0, 300)\n",
    "        self.start_button = Button(self.fond, \"   Start   \", RED, self.small, 0, 360)\n",
    "        self.quit_button  = Button(self.fond, \"   Quit   \", RED, self.small, 0, 420)\n",
    "        self.moins_button = Button(self.fond, \"  -  \", GREEN, self.small, -100, 200)\n",
    "        self.plus_button  = Button(self.fond, \"  +  \", GREEN, self.small, 100, 200)\n",
    "\n",
    "    def display_text(self, text, color, font, dx, dy):\n",
    "        '''Ajout d'un texte sur fond. Décalage dx, dy par rapport au centre.\n",
    "        '''\n",
    "        mytext = font.render(text, True, color)  # True pour antialiasing\n",
    "        textpos = mytext.get_rect()\n",
    "        textpos.centerx = self.fond.get_rect().centerx + dx\n",
    "        textpos.centery = dy\n",
    "        self.fond.blit(mytext, textpos)\n",
    "\n",
    "    def plus(self):\n",
    "        self.level += 1\n",
    "        if self.level == 6: self.level = 5\n",
    "\n",
    "    def moins(self):\n",
    "        self.level += -1\n",
    "        if self.level == 0: self.level = 1\n",
    "\n",
    "    def infinite_loop(self):\n",
    "        while self.loop:\n",
    "            self.create_fond()\n",
    "\n",
    "            # Boutons\n",
    "            self.reset_button.display_button(self.fond)\n",
    "            self.start_button.display_button(self.fond)\n",
    "            self.quit_button.display_button(self.fond)\n",
    "            self.moins_button.display_button(self.fond)\n",
    "            self.plus_button.display_button(self.fond)\n",
    "            for event in pygame.event.get():\n",
    "                if event.type == pygame.MOUSEBUTTONDOWN:\n",
    "                    self.reset_button.update_button(self.fond, action=reset)\n",
    "                    self.start_button.update_button(self.fond, action=start)\n",
    "                    self.quit_button.update_button(self.fond, action=gamequit)\n",
    "                    self.moins_button.update_button(self.fond, action=self.moins)\n",
    "                    self.plus_button.update_button(self.fond, action=self.plus)\n",
    "\n",
    "            self.update_textes()\n",
    "            for text in self.textes:\n",
    "                self.display_text(text[0], text[1], text[2],\n",
    "                                        text[3], text[4])\n",
    "\n",
    "            # Ajout du fond dans la fenêtre\n",
    "            self.screen.blit(self.fond, (0, 0))\n",
    "            # Actualisation de l'affichage\n",
    "            pygame.display.update()\n",
    "            # 10 fps\n",
    "            clock.tick(10)\n",
    "\n",
    "\n",
    "def reset():\n",
    "    print(\"reset\")\n",
    "\n",
    "def start():\n",
    "    print(\"start\")\n",
    "\n",
    "def gamequit():\n",
    "    print(\"Quit\")\n",
    "    pygame.quit()\n",
    "    sys.exit()\n",
    "\n",
    "if __name__ == '__main__':\n",
    "    game = Game()\n",
    "    game.infinite_loop()"
   ]
  },
  {
   "cell_type": "code",
   "execution_count": null,
   "metadata": {},
   "outputs": [],
   "source": []
  }
 ],
 "metadata": {
  "kernelspec": {
   "display_name": "Python 3",
   "language": "python",
   "name": "python3"
  },
  "language_info": {
   "codemirror_mode": {
    "name": "ipython",
    "version": 3
   },
   "file_extension": ".py",
   "mimetype": "text/x-python",
   "name": "python",
   "nbconvert_exporter": "python",
   "pygments_lexer": "ipython3",
   "version": "3.12.2"
  }
 },
 "nbformat": 4,
 "nbformat_minor": 2
}
